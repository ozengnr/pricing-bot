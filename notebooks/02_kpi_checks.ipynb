{
 "cells": [
  {
   "cell_type": "code",
   "execution_count": null,
   "metadata": {
    "vscode": {
     "languageId": "plaintext"
    }
   },
   "outputs": [],
   "source": [
    "import pandas as pd, pathlib\n",
    "df = pd.read_parquet(\"../data/clean_metrics.parquet\")\n",
    "\n",
    "# --- ARR & MRR ---\n",
    "monthly_mrr = (df.assign(mrr_usd = df.arr_usd / 12)\n",
    "                 .groupby(\"month\")[\"mrr_usd\"]\n",
    "                 .sum()\n",
    "                 .reset_index())\n",
    "\n",
    "# --- Net Revenue Retention (NRR) ---\n",
    "pivot = df.pivot(index=\"company_name\",\n",
    "                 columns=\"month\",\n",
    "                 values=\"arr_usd\").fillna(0)\n",
    "\n",
    "nrr = (pivot.iloc[:, -1].sum() /  # ARR latest month\n",
    "       pivot.iloc[:, 0].sum()  ) - 1  # ARR first month\n",
    "\n",
    "print(\"Latest MRR snapshot\")\n",
    "display(monthly_mrr.tail())\n",
    "print(f\"Overall NRR since Jan-2023: {nrr:.1%}\")\n"
   ]
  }
 ],
 "metadata": {
  "language_info": {
   "name": "python"
  }
 },
 "nbformat": 4,
 "nbformat_minor": 2
}
