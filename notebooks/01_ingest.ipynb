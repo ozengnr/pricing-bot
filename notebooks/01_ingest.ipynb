{
 "cells": [
  {
   "cell_type": "code",
   "execution_count": 3,
   "metadata": {},
   "outputs": [
    {
     "data": {
      "text/html": [
       "<div>\n",
       "<style scoped>\n",
       "    .dataframe tbody tr th:only-of-type {\n",
       "        vertical-align: middle;\n",
       "    }\n",
       "\n",
       "    .dataframe tbody tr th {\n",
       "        vertical-align: top;\n",
       "    }\n",
       "\n",
       "    .dataframe thead th {\n",
       "        text-align: right;\n",
       "    }\n",
       "</style>\n",
       "<table border=\"1\" class=\"dataframe\">\n",
       "  <thead>\n",
       "    <tr style=\"text-align: right;\">\n",
       "      <th></th>\n",
       "      <th>month</th>\n",
       "      <th>company_name</th>\n",
       "      <th>arr_usd</th>\n",
       "    </tr>\n",
       "  </thead>\n",
       "  <tbody>\n",
       "    <tr>\n",
       "      <th>4080</th>\n",
       "      <td>2023-01-01</td>\n",
       "      <td>Ace Automation</td>\n",
       "      <td>73175.90</td>\n",
       "    </tr>\n",
       "    <tr>\n",
       "      <th>750</th>\n",
       "      <td>2023-01-01</td>\n",
       "      <td>Ace Cloud</td>\n",
       "      <td>212422.71</td>\n",
       "    </tr>\n",
       "    <tr>\n",
       "      <th>3300</th>\n",
       "      <td>2023-01-01</td>\n",
       "      <td>Ace Dynamics</td>\n",
       "      <td>220764.58</td>\n",
       "    </tr>\n",
       "    <tr>\n",
       "      <th>2550</th>\n",
       "      <td>2023-01-01</td>\n",
       "      <td>Ace Metrics</td>\n",
       "      <td>136225.89</td>\n",
       "    </tr>\n",
       "    <tr>\n",
       "      <th>3810</th>\n",
       "      <td>2023-01-01</td>\n",
       "      <td>Ace Software</td>\n",
       "      <td>220838.34</td>\n",
       "    </tr>\n",
       "  </tbody>\n",
       "</table>\n",
       "</div>"
      ],
      "text/plain": [
       "          month    company_name    arr_usd\n",
       "4080 2023-01-01  Ace Automation   73175.90\n",
       "750  2023-01-01       Ace Cloud  212422.71\n",
       "3300 2023-01-01    Ace Dynamics  220764.58\n",
       "2550 2023-01-01     Ace Metrics  136225.89\n",
       "3810 2023-01-01    Ace Software  220838.34"
      ]
     },
     "metadata": {},
     "output_type": "display_data"
    },
    {
     "name": "stdout",
     "output_type": "stream",
     "text": [
      "month           datetime64[ns]\n",
      "company_name            object\n",
      "arr_usd                float64\n",
      "dtype: object\n",
      "Rows: 4,500\n"
     ]
    }
   ],
   "source": [
    "import pandas as pd, pathlib, json, datetime, os\n",
    "RAW = pathlib.Path(\"../raw/dummy_arr_data.csv\")\n",
    "\n",
    "df = pd.read_csv(RAW, parse_dates=[\"month\"])\n",
    "df = df.sort_values([\"month\", \"company_name\"])\t\n",
    "display(df.head())          # first 5 rows\n",
    "print(df.dtypes)\n",
    "print(f\"Rows: {len(df):,}\")\n"
   ]
  },
  {
   "cell_type": "code",
   "execution_count": 5,
   "metadata": {},
   "outputs": [],
   "source": [
    "assert df[\"company_name\"].notna().all(), \"Blank names!\"\n",
    "assert df[\"arr_usd\"].ge(0).all(), \"Negative ARR?\"\n",
    "assert df[\"month\"].is_monotonic_increasing, \"Months not sorted?\""
   ]
  },
  {
   "cell_type": "code",
   "execution_count": 6,
   "metadata": {},
   "outputs": [],
   "source": [
    "df[\"year\"]  = df[\"month\"].dt.year\n",
    "df[\"yyyymm\"] = df[\"month\"].dt.strftime(\"%Y-%m\")"
   ]
  },
  {
   "cell_type": "code",
   "execution_count": 7,
   "metadata": {},
   "outputs": [
    {
     "name": "stdout",
     "output_type": "stream",
     "text": [
      "Saved → C:\\Users\\ozeng\\Documents\\pricing-bot\\data\\clean_metrics.parquet\n"
     ]
    }
   ],
   "source": [
    "CLEAN = pathlib.Path(\"../data/clean_metrics.parquet\")\n",
    "df.to_parquet(CLEAN, index=False)\n",
    "print(\"Saved →\", CLEAN.resolve())"
   ]
  },
  {
   "cell_type": "code",
   "execution_count": 10,
   "metadata": {},
   "outputs": [
    {
     "name": "stdout",
     "output_type": "stream",
     "text": [
      "Logged to C:\\Users\\ozeng\\Documents\\pricing-bot\\logs\\ingest.log\n"
     ]
    }
   ],
   "source": [
    "import json, datetime, pathlib\n",
    "\n",
    "log_line = {\n",
    "    # timezone-aware UTC datetime\n",
    "    \"timestamp\": datetime.datetime.now(datetime.timezone.utc).isoformat(),\n",
    "    \"raw_rows\": len(df),\n",
    "    \"file\": str(CLEAN)\n",
    "}\n",
    "\n",
    "LOG = pathlib.Path(\"../logs/ingest.log\")\n",
    "LOG.parent.mkdir(parents=True, exist_ok=True)\n",
    "mode = \"a\" if LOG.exists() else \"w\"\n",
    "\n",
    "with LOG.open(mode, encoding=\"utf-8\") as f:\n",
    "    f.write(json.dumps(log_line) + \"\\n\")\n",
    "\n",
    "print(\"Logged to\", LOG.resolve())\n"
   ]
  },
  {
   "cell_type": "code",
   "execution_count": null,
   "metadata": {},
   "outputs": [
    {
     "name": "stderr",
     "output_type": "stream",
     "text": [
      "fatal: pathspec 'raw/dummy_arr_data.csv' did not match any files\n"
     ]
    },
    {
     "name": "stdout",
     "output_type": "stream",
     "text": [
      "On branch master\n",
      "\n",
      "Initial commit\n",
      "\n",
      "Untracked files:\n",
      "  (use \"git add <file>...\" to include in what will be committed)\n",
      "\t../.venv/\n",
      "\t../README.md\n",
      "\t../data/\n",
      "\t../logs/\n",
      "\t./\n",
      "\t../raw/\n",
      "\n",
      "nothing added to commit but untracked files present (use \"git add\" to track)\n"
     ]
    }
   ],
   "source": [
    "!git add raw/dummy_arr_data.csv data/clean_metrics.parquet notebooks/01_ingest.ipynb logs/ingest.log README.md\n",
    "!git commit -m \"Step 1: basic ingest of dummy ARR data\""
   ]
  },
  {
   "cell_type": "code",
   "execution_count": 14,
   "metadata": {},
   "outputs": [
    {
     "ename": "SyntaxError",
     "evalue": "invalid syntax (223093403.py, line 1)",
     "output_type": "error",
     "traceback": [
      "\u001b[1;36m  Cell \u001b[1;32mIn[14], line 1\u001b[1;36m\u001b[0m\n\u001b[1;33m    cd..\u001b[0m\n\u001b[1;37m       ^\u001b[0m\n\u001b[1;31mSyntaxError\u001b[0m\u001b[1;31m:\u001b[0m invalid syntax\n"
     ]
    }
   ],
   "source": []
  }
 ],
 "metadata": {
  "kernelspec": {
   "display_name": ".venv",
   "language": "python",
   "name": "python3"
  },
  "language_info": {
   "codemirror_mode": {
    "name": "ipython",
    "version": 3
   },
   "file_extension": ".py",
   "mimetype": "text/x-python",
   "name": "python",
   "nbconvert_exporter": "python",
   "pygments_lexer": "ipython3",
   "version": "3.12.8"
  }
 },
 "nbformat": 4,
 "nbformat_minor": 2
}
